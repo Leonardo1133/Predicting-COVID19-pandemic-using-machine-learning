{
  "nbformat": 4,
  "nbformat_minor": 0,
  "metadata": {
    "colab": {
      "name": "covid19Arg.ipynb",
      "provenance": [],
      "collapsed_sections": [],
      "authorship_tag": "ABX9TyNYvKjG3+DlYTQ4vrFCTr/7",
      "include_colab_link": true
    },
    "kernelspec": {
      "name": "python3",
      "display_name": "Python 3"
    }
  },
  "cells": [
    {
      "cell_type": "markdown",
      "metadata": {
        "id": "view-in-github",
        "colab_type": "text"
      },
      "source": [
        "<a href=\"https://colab.research.google.com/github/Leonardo1133/Predicting-COVID19-using-machine-learning/blob/master/covid19Arg.ipynb\" target=\"_parent\"><img src=\"https://colab.research.google.com/assets/colab-badge.svg\" alt=\"Open In Colab\"/></a>"
      ]
    },
    {
      "cell_type": "markdown",
      "metadata": {
        "id": "GMNOrV_p-Ysb",
        "colab_type": "text"
      },
      "source": [
        "*   Autor: Leonardo Oscar Dávila \n",
        "*   Ingeniero Electrónico | Data Scientist\n",
        "*   leonardo.davila1133@gmail.com\n",
        "*   linkedin: https://www.linkedin.com/in/leonardooscardavila/\n",
        "\n"
      ]
    },
    {
      "cell_type": "code",
      "metadata": {
        "id": "OsmFsWlTvPYB",
        "colab_type": "code",
        "colab": {}
      },
      "source": [
        "import pandas as pd\n",
        "import numpy as np\n",
        "from sklearn.model_selection import train_test_split\n",
        "from sklearn.linear_model import LogisticRegression\n",
        "from sklearn.svm import SVC\n",
        "from sklearn.neighbors import KNeighborsClassifier\n",
        "from sklearn.neural_network import MLPClassifier"
      ],
      "execution_count": 0,
      "outputs": []
    },
    {
      "cell_type": "code",
      "metadata": {
        "id": "nNdD6dPeDvge",
        "colab_type": "code",
        "colab": {}
      },
      "source": [
        "from google.colab import drive\n",
        "drive.mount('/content/drive')"
      ],
      "execution_count": 0,
      "outputs": []
    },
    {
      "cell_type": "code",
      "metadata": {
        "id": "-BXfcE1Wvv59",
        "colab_type": "code",
        "colab": {}
      },
      "source": [
        "url = 'http://170.150.153.128/covid/Covid19Casos.csv'\n",
        "df = pd.read_csv(url)"
      ],
      "execution_count": 0,
      "outputs": []
    },
    {
      "cell_type": "code",
      "metadata": {
        "id": "4MfwGabAvzEN",
        "colab_type": "code",
        "outputId": "af036f38-4a5a-4da9-c5de-7dabf1981b17",
        "colab": {
          "base_uri": "https://localhost:8080/",
          "height": 282
        }
      },
      "source": [
        "df.head()"
      ],
      "execution_count": 0,
      "outputs": [
        {
          "output_type": "execute_result",
          "data": {
            "text/html": [
              "<div>\n",
              "<style scoped>\n",
              "    .dataframe tbody tr th:only-of-type {\n",
              "        vertical-align: middle;\n",
              "    }\n",
              "\n",
              "    .dataframe tbody tr th {\n",
              "        vertical-align: top;\n",
              "    }\n",
              "\n",
              "    .dataframe thead th {\n",
              "        text-align: right;\n",
              "    }\n",
              "</style>\n",
              "<table border=\"1\" class=\"dataframe\">\n",
              "  <thead>\n",
              "    <tr style=\"text-align: right;\">\n",
              "      <th></th>\n",
              "      <th>id_evento_caso</th>\n",
              "      <th>sexo</th>\n",
              "      <th>edad</th>\n",
              "      <th>edad_años_meses</th>\n",
              "      <th>residencia_pais_nombre</th>\n",
              "      <th>residencia_provincia_nombre</th>\n",
              "      <th>residencia_departamento_nombre</th>\n",
              "      <th>carga_provincia_nombre</th>\n",
              "      <th>fecha_inicio_sintomas</th>\n",
              "      <th>fecha_apertura</th>\n",
              "      <th>sepi_apertura</th>\n",
              "      <th>fecha_internacion</th>\n",
              "      <th>cuidado_intensivo</th>\n",
              "      <th>fecha_cui_intensivo</th>\n",
              "      <th>fallecido</th>\n",
              "      <th>fecha_fallecimiento</th>\n",
              "      <th>asistencia_respiratoria_mecanica</th>\n",
              "      <th>carga_provincia_id</th>\n",
              "      <th>origen_financiamiento</th>\n",
              "      <th>clasificacion</th>\n",
              "      <th>clasificacion_resumen</th>\n",
              "      <th>residencia_provincia_id</th>\n",
              "      <th>fecha_diagnostico</th>\n",
              "      <th>residencia_departamento_id</th>\n",
              "      <th>ultima_actualizacion</th>\n",
              "    </tr>\n",
              "  </thead>\n",
              "  <tbody>\n",
              "    <tr>\n",
              "      <th>0</th>\n",
              "      <td>672064</td>\n",
              "      <td>M</td>\n",
              "      <td>52.0</td>\n",
              "      <td>Años</td>\n",
              "      <td>Argentina</td>\n",
              "      <td>Buenos Aires</td>\n",
              "      <td>Florencio Varela</td>\n",
              "      <td>Buenos Aires</td>\n",
              "      <td>2020-05-29</td>\n",
              "      <td>2019-10-29</td>\n",
              "      <td>44</td>\n",
              "      <td>NaN</td>\n",
              "      <td>NaN</td>\n",
              "      <td>NaN</td>\n",
              "      <td>NaN</td>\n",
              "      <td>NaN</td>\n",
              "      <td>NaN</td>\n",
              "      <td>6</td>\n",
              "      <td>Público</td>\n",
              "      <td>Caso descartado</td>\n",
              "      <td>Descartado</td>\n",
              "      <td>6</td>\n",
              "      <td>2020-06-01</td>\n",
              "      <td>274</td>\n",
              "      <td>2020-06-03</td>\n",
              "    </tr>\n",
              "    <tr>\n",
              "      <th>1</th>\n",
              "      <td>717629</td>\n",
              "      <td>F</td>\n",
              "      <td>46.0</td>\n",
              "      <td>Años</td>\n",
              "      <td>Argentina</td>\n",
              "      <td>Buenos Aires</td>\n",
              "      <td>Pergamino</td>\n",
              "      <td>Buenos Aires</td>\n",
              "      <td>2020-01-29</td>\n",
              "      <td>2020-01-31</td>\n",
              "      <td>5</td>\n",
              "      <td>NaN</td>\n",
              "      <td>NaN</td>\n",
              "      <td>NaN</td>\n",
              "      <td>NaN</td>\n",
              "      <td>NaN</td>\n",
              "      <td>NaN</td>\n",
              "      <td>6</td>\n",
              "      <td>Público</td>\n",
              "      <td>Caso descartado</td>\n",
              "      <td>Descartado</td>\n",
              "      <td>6</td>\n",
              "      <td>NaN</td>\n",
              "      <td>623</td>\n",
              "      <td>2020-06-03</td>\n",
              "    </tr>\n",
              "    <tr>\n",
              "      <th>2</th>\n",
              "      <td>717926</td>\n",
              "      <td>F</td>\n",
              "      <td>41.0</td>\n",
              "      <td>Años</td>\n",
              "      <td>Argentina</td>\n",
              "      <td>CABA</td>\n",
              "      <td>COMUNA 12</td>\n",
              "      <td>CABA</td>\n",
              "      <td>2020-01-23</td>\n",
              "      <td>2020-01-31</td>\n",
              "      <td>5</td>\n",
              "      <td>NaN</td>\n",
              "      <td>NaN</td>\n",
              "      <td>NaN</td>\n",
              "      <td>NaN</td>\n",
              "      <td>NaN</td>\n",
              "      <td>NaN</td>\n",
              "      <td>2</td>\n",
              "      <td>Público</td>\n",
              "      <td>Caso invalidado por epidemiología</td>\n",
              "      <td>Descartado</td>\n",
              "      <td>2</td>\n",
              "      <td>NaN</td>\n",
              "      <td>12</td>\n",
              "      <td>2020-06-03</td>\n",
              "    </tr>\n",
              "    <tr>\n",
              "      <th>3</th>\n",
              "      <td>718029</td>\n",
              "      <td>F</td>\n",
              "      <td>52.0</td>\n",
              "      <td>Años</td>\n",
              "      <td>Argentina</td>\n",
              "      <td>Buenos Aires</td>\n",
              "      <td>La Plata</td>\n",
              "      <td>Buenos Aires</td>\n",
              "      <td>2020-01-29</td>\n",
              "      <td>2020-01-31</td>\n",
              "      <td>5</td>\n",
              "      <td>NaN</td>\n",
              "      <td>NaN</td>\n",
              "      <td>NaN</td>\n",
              "      <td>NaN</td>\n",
              "      <td>NaN</td>\n",
              "      <td>NaN</td>\n",
              "      <td>6</td>\n",
              "      <td>Público</td>\n",
              "      <td>Caso invalidado por epidemiología</td>\n",
              "      <td>Descartado</td>\n",
              "      <td>6</td>\n",
              "      <td>NaN</td>\n",
              "      <td>441</td>\n",
              "      <td>2020-06-03</td>\n",
              "    </tr>\n",
              "    <tr>\n",
              "      <th>4</th>\n",
              "      <td>718055</td>\n",
              "      <td>F</td>\n",
              "      <td>34.0</td>\n",
              "      <td>Años</td>\n",
              "      <td>Argentina</td>\n",
              "      <td>CABA</td>\n",
              "      <td>SIN ESPECIFICAR</td>\n",
              "      <td>CABA</td>\n",
              "      <td>2020-01-16</td>\n",
              "      <td>2020-01-31</td>\n",
              "      <td>5</td>\n",
              "      <td>NaN</td>\n",
              "      <td>NaN</td>\n",
              "      <td>NaN</td>\n",
              "      <td>NaN</td>\n",
              "      <td>NaN</td>\n",
              "      <td>NaN</td>\n",
              "      <td>2</td>\n",
              "      <td>Privado</td>\n",
              "      <td>Caso descartado</td>\n",
              "      <td>Descartado</td>\n",
              "      <td>2</td>\n",
              "      <td>2020-02-11</td>\n",
              "      <td>0</td>\n",
              "      <td>2020-06-03</td>\n",
              "    </tr>\n",
              "  </tbody>\n",
              "</table>\n",
              "</div>"
            ],
            "text/plain": [
              "   id_evento_caso sexo  ...  residencia_departamento_id ultima_actualizacion\n",
              "0          672064    M  ...                         274           2020-06-03\n",
              "1          717629    F  ...                         623           2020-06-03\n",
              "2          717926    F  ...                          12           2020-06-03\n",
              "3          718029    F  ...                         441           2020-06-03\n",
              "4          718055    F  ...                           0           2020-06-03\n",
              "\n",
              "[5 rows x 25 columns]"
            ]
          },
          "metadata": {
            "tags": []
          },
          "execution_count": 124
        }
      ]
    },
    {
      "cell_type": "code",
      "metadata": {
        "id": "OyeXU6fpv3x6",
        "colab_type": "code",
        "outputId": "245433ec-8170-435e-f128-b201af0af431",
        "colab": {
          "base_uri": "https://localhost:8080/",
          "height": 554
        }
      },
      "source": [
        "df.info()"
      ],
      "execution_count": 0,
      "outputs": [
        {
          "output_type": "stream",
          "text": [
            "<class 'pandas.core.frame.DataFrame'>\n",
            "RangeIndex: 158962 entries, 0 to 158961\n",
            "Data columns (total 25 columns):\n",
            " #   Column                            Non-Null Count   Dtype  \n",
            "---  ------                            --------------   -----  \n",
            " 0   id_evento_caso                    158962 non-null  int64  \n",
            " 1   sexo                              158679 non-null  object \n",
            " 2   edad                              158681 non-null  float64\n",
            " 3   edad_años_meses                   158962 non-null  object \n",
            " 4   residencia_pais_nombre            158962 non-null  object \n",
            " 5   residencia_provincia_nombre       158962 non-null  object \n",
            " 6   residencia_departamento_nombre    158962 non-null  object \n",
            " 7   carga_provincia_nombre            158962 non-null  object \n",
            " 8   fecha_inicio_sintomas             107270 non-null  object \n",
            " 9   fecha_apertura                    158962 non-null  object \n",
            " 10  sepi_apertura                     158962 non-null  int64  \n",
            " 11  fecha_internacion                 44778 non-null   object \n",
            " 12  cuidado_intensivo                 43103 non-null   object \n",
            " 13  fecha_cui_intensivo               6636 non-null    object \n",
            " 14  fallecido                         11148 non-null   object \n",
            " 15  fecha_fallecimiento               1918 non-null    object \n",
            " 16  asistencia_respiratoria_mecanica  6119 non-null    object \n",
            " 17  carga_provincia_id                158962 non-null  int64  \n",
            " 18  origen_financiamiento             158962 non-null  object \n",
            " 19  clasificacion                     158962 non-null  object \n",
            " 20  clasificacion_resumen             158962 non-null  object \n",
            " 21  residencia_provincia_id           158962 non-null  int64  \n",
            " 22  fecha_diagnostico                 147423 non-null  object \n",
            " 23  residencia_departamento_id        158962 non-null  int64  \n",
            " 24  ultima_actualizacion              158962 non-null  object \n",
            "dtypes: float64(1), int64(5), object(19)\n",
            "memory usage: 30.3+ MB\n"
          ],
          "name": "stdout"
        }
      ]
    },
    {
      "cell_type": "code",
      "metadata": {
        "id": "1gFtyJ5a6FXB",
        "colab_type": "code",
        "outputId": "d8ccaf20-3292-41c5-b899-4d64ece8d545",
        "colab": {
          "base_uri": "https://localhost:8080/",
          "height": 34
        }
      },
      "source": [
        "df.shape"
      ],
      "execution_count": 0,
      "outputs": [
        {
          "output_type": "execute_result",
          "data": {
            "text/plain": [
              "(158962, 25)"
            ]
          },
          "metadata": {
            "tags": []
          },
          "execution_count": 126
        }
      ]
    },
    {
      "cell_type": "code",
      "metadata": {
        "id": "8gdTTFZt9Ews",
        "colab_type": "code",
        "colab": {}
      },
      "source": [
        "df = df.loc[:,['sexo','edad','residencia_provincia_nombre','clasificacion_resumen','fallecido']]"
      ],
      "execution_count": 0,
      "outputs": []
    },
    {
      "cell_type": "code",
      "metadata": {
        "id": "lee42igs6R1U",
        "colab_type": "code",
        "outputId": "c12d3235-055a-4a28-a4e5-c17ebb88ef34",
        "colab": {
          "base_uri": "https://localhost:8080/",
          "height": 118
        }
      },
      "source": [
        "print(pd.isnull(df).sum())"
      ],
      "execution_count": 0,
      "outputs": [
        {
          "output_type": "stream",
          "text": [
            "sexo                              283\n",
            "edad                              281\n",
            "residencia_provincia_nombre         0\n",
            "clasificacion_resumen               0\n",
            "fallecido                      147814\n",
            "dtype: int64\n"
          ],
          "name": "stdout"
        }
      ]
    },
    {
      "cell_type": "markdown",
      "metadata": {
        "id": "HTyq1qFP7TKk",
        "colab_type": "text"
      },
      "source": [
        "Se eliminan datos faltantes en sexo, edad y fallecidos"
      ]
    },
    {
      "cell_type": "code",
      "metadata": {
        "id": "xtCZvR707qMd",
        "colab_type": "code",
        "colab": {}
      },
      "source": [
        "df = df.dropna(axis=0)\n",
        "df = df.dropna(axis=1)"
      ],
      "execution_count": 0,
      "outputs": []
    },
    {
      "cell_type": "code",
      "metadata": {
        "id": "JFG9GPNL8gyl",
        "colab_type": "code",
        "outputId": "bbf902b2-8dd2-4c49-cd99-c460bf27649d",
        "colab": {
          "base_uri": "https://localhost:8080/",
          "height": 118
        }
      },
      "source": [
        "print(pd.isnull(df).sum())"
      ],
      "execution_count": 0,
      "outputs": [
        {
          "output_type": "stream",
          "text": [
            "sexo                           0\n",
            "edad                           0\n",
            "residencia_provincia_nombre    0\n",
            "clasificacion_resumen          0\n",
            "fallecido                      0\n",
            "dtype: int64\n"
          ],
          "name": "stdout"
        }
      ]
    },
    {
      "cell_type": "code",
      "metadata": {
        "id": "dfZMiLSD9Mcs",
        "colab_type": "code",
        "outputId": "5df85e82-f370-4e99-86fc-d051f0edc0fa",
        "colab": {
          "base_uri": "https://localhost:8080/",
          "height": 84
        }
      },
      "source": [
        "df['sexo'].value_counts()"
      ],
      "execution_count": 0,
      "outputs": [
        {
          "output_type": "execute_result",
          "data": {
            "text/plain": [
              "F    5590\n",
              "M    5523\n",
              "A      15\n",
              "Name: sexo, dtype: int64"
            ]
          },
          "metadata": {
            "tags": []
          },
          "execution_count": 132
        }
      ]
    },
    {
      "cell_type": "code",
      "metadata": {
        "id": "W01QfzZ0C19t",
        "colab_type": "code",
        "colab": {}
      },
      "source": [
        "indexNames = df[df['sexo'] == 'A' ].index\n",
        "df.drop(indexNames , inplace=True)"
      ],
      "execution_count": 0,
      "outputs": []
    },
    {
      "cell_type": "code",
      "metadata": {
        "id": "wgl2E4IoD6t8",
        "colab_type": "code",
        "outputId": "53263ed2-cdb8-4e68-c630-dd4bbd9acd56",
        "colab": {
          "base_uri": "https://localhost:8080/",
          "height": 218
        }
      },
      "source": [
        "df.info()"
      ],
      "execution_count": 0,
      "outputs": [
        {
          "output_type": "stream",
          "text": [
            "<class 'pandas.core.frame.DataFrame'>\n",
            "Int64Index: 11113 entries, 10 to 158944\n",
            "Data columns (total 5 columns):\n",
            " #   Column                       Non-Null Count  Dtype  \n",
            "---  ------                       --------------  -----  \n",
            " 0   sexo                         11113 non-null  object \n",
            " 1   edad                         11113 non-null  float64\n",
            " 2   residencia_provincia_nombre  11113 non-null  object \n",
            " 3   clasificacion_resumen        11113 non-null  object \n",
            " 4   fallecido                    11113 non-null  object \n",
            "dtypes: float64(1), object(4)\n",
            "memory usage: 520.9+ KB\n"
          ],
          "name": "stdout"
        }
      ]
    },
    {
      "cell_type": "code",
      "metadata": {
        "id": "vYVjSFQtED1a",
        "colab_type": "code",
        "outputId": "b9173c02-6dfd-4ada-fca1-4eac82738360",
        "colab": {
          "base_uri": "https://localhost:8080/",
          "height": 84
        }
      },
      "source": [
        "df['clasificacion_resumen'].value_counts()"
      ],
      "execution_count": 0,
      "outputs": [
        {
          "output_type": "execute_result",
          "data": {
            "text/plain": [
              "Descartado    7531\n",
              "Confirmado    3203\n",
              "Sospechoso     379\n",
              "Name: clasificacion_resumen, dtype: int64"
            ]
          },
          "metadata": {
            "tags": []
          },
          "execution_count": 136
        }
      ]
    },
    {
      "cell_type": "code",
      "metadata": {
        "id": "5EkLqPjoEpDQ",
        "colab_type": "code",
        "outputId": "6e0b53b8-85b3-4bda-f405-b013042fe221",
        "colab": {
          "base_uri": "https://localhost:8080/",
          "height": 84
        }
      },
      "source": [
        "df['fallecido'].value_counts()"
      ],
      "execution_count": 0,
      "outputs": [
        {
          "output_type": "execute_result",
          "data": {
            "text/plain": [
              "NO    8668\n",
              "SI    1907\n",
              "ND     538\n",
              "Name: fallecido, dtype: int64"
            ]
          },
          "metadata": {
            "tags": []
          },
          "execution_count": 137
        }
      ]
    },
    {
      "cell_type": "code",
      "metadata": {
        "id": "ORCSuQWl1KPU",
        "colab_type": "code",
        "colab": {}
      },
      "source": [
        "indexNames = df[df['fallecido'] == 'ND' ].index\n",
        "df.drop(indexNames , inplace=True)"
      ],
      "execution_count": 0,
      "outputs": []
    },
    {
      "cell_type": "code",
      "metadata": {
        "id": "fMyLzmPc1VMO",
        "colab_type": "code",
        "outputId": "05485b95-0728-4228-dfc6-42d2ca6e721e",
        "colab": {
          "base_uri": "https://localhost:8080/",
          "height": 67
        }
      },
      "source": [
        "df['fallecido'].value_counts()"
      ],
      "execution_count": 0,
      "outputs": [
        {
          "output_type": "execute_result",
          "data": {
            "text/plain": [
              "NO    8668\n",
              "SI    1907\n",
              "Name: fallecido, dtype: int64"
            ]
          },
          "metadata": {
            "tags": []
          },
          "execution_count": 139
        }
      ]
    },
    {
      "cell_type": "markdown",
      "metadata": {
        "id": "MEyIVKXA7-Q_",
        "colab_type": "text"
      },
      "source": [
        "Encoding categorical features"
      ]
    },
    {
      "cell_type": "code",
      "metadata": {
        "id": "nG68zKCN2M-5",
        "colab_type": "code",
        "colab": {}
      },
      "source": [
        "df['sexo'].replace(['M','F'],[1,0],inplace=True)\n",
        "df['residencia_provincia_nombre'].replace(['Buenos Aires','CABA','Córdoba','Santa Fe','Chaco','Tucumán','Corrientes','Río Negro','Mendoza','Jujuy','Tierra del Fuego','Neuquén','Santiago del Estero','La Rioja','Entre Ríos','Misiones','Formosa','San Juan','Salta','SIN ESPECIFICAR','Santa Cruz','Chubut','San Luis','Catamarca','La Pampa'],[0,1,2,3,4,5,6,7,8,9,10,11,12,13,14,15,16,17,18,19,20,21,22,23,24],inplace=True)\n",
        "df['clasificacion_resumen'].replace(['Descartado','Sospechoso','Confirmado'],[0,1,2],inplace=True)\n",
        "df['fallecido'].replace(['SI','NO'],[1,0],inplace=True)"
      ],
      "execution_count": 0,
      "outputs": []
    },
    {
      "cell_type": "code",
      "metadata": {
        "id": "Z60pKUuD2s1P",
        "colab_type": "code",
        "outputId": "010cb410-6906-4256-e7a3-bac2dcbd05a9",
        "colab": {
          "base_uri": "https://localhost:8080/",
          "height": 402
        }
      },
      "source": [
        "df"
      ],
      "execution_count": 0,
      "outputs": [
        {
          "output_type": "execute_result",
          "data": {
            "text/html": [
              "<div>\n",
              "<style scoped>\n",
              "    .dataframe tbody tr th:only-of-type {\n",
              "        vertical-align: middle;\n",
              "    }\n",
              "\n",
              "    .dataframe tbody tr th {\n",
              "        vertical-align: top;\n",
              "    }\n",
              "\n",
              "    .dataframe thead th {\n",
              "        text-align: right;\n",
              "    }\n",
              "</style>\n",
              "<table border=\"1\" class=\"dataframe\">\n",
              "  <thead>\n",
              "    <tr style=\"text-align: right;\">\n",
              "      <th></th>\n",
              "      <th>sexo</th>\n",
              "      <th>edad</th>\n",
              "      <th>residencia_provincia_nombre</th>\n",
              "      <th>clasificacion_resumen</th>\n",
              "      <th>fallecido</th>\n",
              "    </tr>\n",
              "  </thead>\n",
              "  <tbody>\n",
              "    <tr>\n",
              "      <th>10</th>\n",
              "      <td>1</td>\n",
              "      <td>33.0</td>\n",
              "      <td>8</td>\n",
              "      <td>0</td>\n",
              "      <td>0</td>\n",
              "    </tr>\n",
              "    <tr>\n",
              "      <th>17</th>\n",
              "      <td>0</td>\n",
              "      <td>45.0</td>\n",
              "      <td>1</td>\n",
              "      <td>0</td>\n",
              "      <td>0</td>\n",
              "    </tr>\n",
              "    <tr>\n",
              "      <th>19</th>\n",
              "      <td>1</td>\n",
              "      <td>22.0</td>\n",
              "      <td>1</td>\n",
              "      <td>0</td>\n",
              "      <td>0</td>\n",
              "    </tr>\n",
              "    <tr>\n",
              "      <th>20</th>\n",
              "      <td>1</td>\n",
              "      <td>47.0</td>\n",
              "      <td>1</td>\n",
              "      <td>0</td>\n",
              "      <td>0</td>\n",
              "    </tr>\n",
              "    <tr>\n",
              "      <th>32</th>\n",
              "      <td>0</td>\n",
              "      <td>31.0</td>\n",
              "      <td>1</td>\n",
              "      <td>0</td>\n",
              "      <td>0</td>\n",
              "    </tr>\n",
              "    <tr>\n",
              "      <th>...</th>\n",
              "      <td>...</td>\n",
              "      <td>...</td>\n",
              "      <td>...</td>\n",
              "      <td>...</td>\n",
              "      <td>...</td>\n",
              "    </tr>\n",
              "    <tr>\n",
              "      <th>157825</th>\n",
              "      <td>0</td>\n",
              "      <td>80.0</td>\n",
              "      <td>1</td>\n",
              "      <td>1</td>\n",
              "      <td>0</td>\n",
              "    </tr>\n",
              "    <tr>\n",
              "      <th>157911</th>\n",
              "      <td>1</td>\n",
              "      <td>54.0</td>\n",
              "      <td>1</td>\n",
              "      <td>1</td>\n",
              "      <td>1</td>\n",
              "    </tr>\n",
              "    <tr>\n",
              "      <th>158066</th>\n",
              "      <td>1</td>\n",
              "      <td>20.0</td>\n",
              "      <td>0</td>\n",
              "      <td>1</td>\n",
              "      <td>0</td>\n",
              "    </tr>\n",
              "    <tr>\n",
              "      <th>158143</th>\n",
              "      <td>1</td>\n",
              "      <td>89.0</td>\n",
              "      <td>1</td>\n",
              "      <td>1</td>\n",
              "      <td>0</td>\n",
              "    </tr>\n",
              "    <tr>\n",
              "      <th>158905</th>\n",
              "      <td>1</td>\n",
              "      <td>28.0</td>\n",
              "      <td>0</td>\n",
              "      <td>1</td>\n",
              "      <td>0</td>\n",
              "    </tr>\n",
              "  </tbody>\n",
              "</table>\n",
              "<p>10575 rows × 5 columns</p>\n",
              "</div>"
            ],
            "text/plain": [
              "        sexo  edad  ...  clasificacion_resumen  fallecido\n",
              "10         1  33.0  ...                      0          0\n",
              "17         0  45.0  ...                      0          0\n",
              "19         1  22.0  ...                      0          0\n",
              "20         1  47.0  ...                      0          0\n",
              "32         0  31.0  ...                      0          0\n",
              "...      ...   ...  ...                    ...        ...\n",
              "157825     0  80.0  ...                      1          0\n",
              "157911     1  54.0  ...                      1          1\n",
              "158066     1  20.0  ...                      1          0\n",
              "158143     1  89.0  ...                      1          0\n",
              "158905     1  28.0  ...                      1          0\n",
              "\n",
              "[10575 rows x 5 columns]"
            ]
          },
          "metadata": {
            "tags": []
          },
          "execution_count": 141
        }
      ]
    },
    {
      "cell_type": "markdown",
      "metadata": {
        "id": "dzhsyfYY5EF2",
        "colab_type": "text"
      },
      "source": [
        "Construccion del Modelo de Machine Learning"
      ]
    },
    {
      "cell_type": "code",
      "metadata": {
        "id": "uB3hYo-J2uNw",
        "colab_type": "code",
        "colab": {}
      },
      "source": [
        "X = np.array(df.drop(['fallecido'], 1))\n",
        "y = np.array(df['fallecido'])"
      ],
      "execution_count": 0,
      "outputs": []
    },
    {
      "cell_type": "code",
      "metadata": {
        "id": "l8sw0hfO5hyL",
        "colab_type": "code",
        "outputId": "7a2513c4-03e8-41d2-cef2-97ea2a61d67e",
        "colab": {
          "base_uri": "https://localhost:8080/",
          "height": 134
        }
      },
      "source": [
        "X"
      ],
      "execution_count": 0,
      "outputs": [
        {
          "output_type": "execute_result",
          "data": {
            "text/plain": [
              "array([[ 1., 33.,  8.,  0.],\n",
              "       [ 0., 45.,  1.,  0.],\n",
              "       [ 1., 22.,  1.,  0.],\n",
              "       ...,\n",
              "       [ 1., 20.,  0.,  1.],\n",
              "       [ 1., 89.,  1.,  1.],\n",
              "       [ 1., 28.,  0.,  1.]])"
            ]
          },
          "metadata": {
            "tags": []
          },
          "execution_count": 144
        }
      ]
    },
    {
      "cell_type": "code",
      "metadata": {
        "id": "CHa7fJ9r5m1Q",
        "colab_type": "code",
        "outputId": "1dcf0324-d68f-4181-9ce9-d53f362950e7",
        "colab": {
          "base_uri": "https://localhost:8080/",
          "height": 34
        }
      },
      "source": [
        "y"
      ],
      "execution_count": 0,
      "outputs": [
        {
          "output_type": "execute_result",
          "data": {
            "text/plain": [
              "array([0, 0, 0, ..., 0, 0, 0])"
            ]
          },
          "metadata": {
            "tags": []
          },
          "execution_count": 145
        }
      ]
    },
    {
      "cell_type": "code",
      "metadata": {
        "id": "wIyTLcyB5oNv",
        "colab_type": "code",
        "colab": {}
      },
      "source": [
        "X_train, X_test, y_train, y_test = train_test_split(X, y, test_size=0.2)"
      ],
      "execution_count": 0,
      "outputs": []
    },
    {
      "cell_type": "code",
      "metadata": {
        "id": "728NlDUD5uFt",
        "colab_type": "code",
        "outputId": "5cfbd46a-ea8f-4211-c481-99301ed0c87d",
        "colab": {
          "base_uri": "https://localhost:8080/",
          "height": 50
        }
      },
      "source": [
        "## Regresión logística\n",
        "logreg = LogisticRegression()\n",
        "logreg.fit(X_train, y_train)\n",
        "Y_pred = logreg.predict(X_test)\n",
        "print('Precisión Regresión Logística:')\n",
        "print(logreg.score(X_train, y_train))"
      ],
      "execution_count": 0,
      "outputs": [
        {
          "output_type": "stream",
          "text": [
            "Precisión Regresión Logística:\n",
            "0.8306146572104018\n"
          ],
          "name": "stdout"
        }
      ]
    },
    {
      "cell_type": "code",
      "metadata": {
        "id": "Hh2BvdQ35xuO",
        "colab_type": "code",
        "outputId": "e1d9d848-f503-4635-f1d6-200e413958bf",
        "colab": {
          "base_uri": "https://localhost:8080/",
          "height": 50
        }
      },
      "source": [
        "## Support Vector Machines\n",
        "svc = SVC()\n",
        "svc.fit(X_train, y_train)\n",
        "Y_pred = svc.predict(X_test)\n",
        "print('Precisión Soporte de Vectores:')\n",
        "print(svc.score(X_train, y_train))\n"
      ],
      "execution_count": 0,
      "outputs": [
        {
          "output_type": "stream",
          "text": [
            "Precisión Soporte de Vectores:\n",
            "0.8281323877068558\n"
          ],
          "name": "stdout"
        }
      ]
    },
    {
      "cell_type": "code",
      "metadata": {
        "id": "9lG5mcmr9R7-",
        "colab_type": "code",
        "outputId": "79246987-24e4-43d4-cfcb-8a2b56e1e94d",
        "colab": {
          "base_uri": "https://localhost:8080/",
          "height": 50
        }
      },
      "source": [
        "## K neighbors\n",
        "knn = KNeighborsClassifier(n_neighbors = 3)\n",
        "knn.fit(X_train, y_train)\n",
        "Y_pred = knn.predict(X_test)\n",
        "print('Precisión Vecinos más Cercanos:')\n",
        "print(knn.score(X_train, y_train))"
      ],
      "execution_count": 0,
      "outputs": [
        {
          "output_type": "stream",
          "text": [
            "Precisión Vecinos más Cercanos:\n",
            "0.8554373522458629\n"
          ],
          "name": "stdout"
        }
      ]
    },
    {
      "cell_type": "code",
      "metadata": {
        "id": "epsyG1LoEvL2",
        "colab_type": "code",
        "colab": {
          "base_uri": "https://localhost:8080/",
          "height": 50
        },
        "outputId": "54d3f488-b638-4716-a90c-1c2f155cdb6e"
      },
      "source": [
        "## neural network\n",
        "clf = MLPClassifier(solver='lbfgs', alpha=1e-5, hidden_layer_sizes=(5, 1), random_state=1)\n",
        "clf.fit(X_train, y_train)\n",
        "print('neural_network')\n",
        "print(clf.score(X_train, y_train))"
      ],
      "execution_count": 166,
      "outputs": [
        {
          "output_type": "stream",
          "text": [
            "neural_network\n",
            "0.8335697399527187\n"
          ],
          "name": "stdout"
        }
      ]
    },
    {
      "cell_type": "code",
      "metadata": {
        "id": "7t5Ed67TFa4o",
        "colab_type": "code",
        "colab": {}
      },
      "source": [
        ""
      ],
      "execution_count": 0,
      "outputs": []
    }
  ]
}